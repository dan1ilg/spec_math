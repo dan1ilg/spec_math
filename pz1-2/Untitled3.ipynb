{
 "cells": [
  {
   "cell_type": "code",
   "execution_count": 1,
   "id": "d2acc291-0576-413d-b26b-c2e51ca8df1d",
   "metadata": {},
   "outputs": [],
   "source": [
    "from collections import deque"
   ]
  },
  {
   "cell_type": "markdown",
   "id": "6fe42d8a-20c5-4d81-80a5-4cd4d865113d",
   "metadata": {},
   "source": [
    "1. загрузили матрицу смежности графа"
   ]
  },
  {
   "cell_type": "code",
   "execution_count": 2,
   "id": "0e100637-c22d-42cb-8c81-5e0fd1043649",
   "metadata": {},
   "outputs": [],
   "source": [
    "graph = [\n",
    "[0, 0, 0, 0, 0, 1, 0, 0, 1, 0, 0, 0, 0, 0, 0, 0, 0, 0, 0, 0],\n",
    "[0, 0, 1, 0, 0, 0, 0, 0, 0, 0, 0, 0, 0, 0, 0, 0, 0, 0, 0, 0],\n",
    "[0, 1, 0, 1, 1, 1, 0, 0, 0, 0, 0, 0, 0, 0, 0, 0, 0, 0, 0, 0],\n",
    "[0, 0, 1, 0, 0, 0, 0, 0, 0, 0, 0, 0, 0, 0, 0, 0, 0, 0, 0, 0],\n",
    "[0, 0, 1, 0, 0, 0, 0, 0, 0, 0, 0, 0, 0, 0, 0, 0, 0, 0, 0, 0],\n",
    "[1, 0, 1, 0, 0, 0, 0, 0, 0, 0, 0, 0, 0, 0, 0, 0, 0, 0, 0, 0],\n",
    "[0, 0, 0, 0, 0, 0, 0, 0, 0, 0, 0, 0, 0, 0, 0, 0, 1, 0, 0, 0],\n",
    "[0, 0, 0, 0, 0, 0, 0, 0, 1, 0, 0, 0, 1, 0, 0, 0, 0, 0, 1, 0],\n",
    "[1, 0, 0, 0, 0, 0, 0, 1, 0, 0, 0, 0, 0, 0, 0, 1, 0, 0, 0, 0],\n",
    "[0, 0, 0, 0, 0, 0, 0, 0, 0, 0, 0, 0, 0, 1, 0, 0, 1, 1, 0, 0],\n",
    "[0, 0, 0, 0, 0, 0, 0, 0, 0, 0, 0, 0, 0, 0, 0, 0, 1, 0, 0, 0],\n",
    "[0, 0, 0, 0, 0, 0, 0, 0, 0, 0, 0, 0, 0, 0, 0, 0, 0, 0, 1, 0],\n",
    "[0, 0, 0, 0, 0, 0, 0, 1, 0, 0, 0, 0, 0, 0, 0, 0, 0, 1, 0, 0],\n",
    "[0, 0, 0, 0, 0, 0, 0, 0, 0, 1, 0, 0, 0, 0, 0, 0, 0, 0, 0, 0],\n",
    "[0, 0, 0, 0, 0, 0, 0, 0, 0, 0, 0, 0, 0, 0, 0, 0, 1, 0, 0, 0],\n",
    "[0, 0, 0, 0, 0, 0, 0, 0, 1, 0, 0, 0, 0, 0, 0, 0, 0, 0, 0, 0],\n",
    "[0, 0, 0, 0, 0, 0, 1, 0, 0, 1, 1, 0, 0, 0, 1, 0, 0, 1, 0, 1],\n",
    "[0, 0, 0, 0, 0, 0, 0, 0, 0, 1, 0, 0, 1, 0, 0, 0, 1, 0, 0, 0],\n",
    "[0, 0, 0, 0, 0, 0, 0, 1, 0, 0, 0, 1, 0, 0, 0, 0, 0, 0, 0, 0],\n",
    "[0, 0, 0, 0, 0, 0, 0, 0, 0, 0, 0, 0, 0, 0, 0, 0, 1, 0, 0, 0]\n",
    "]"
   ]
  },
  {
   "cell_type": "markdown",
   "id": "ed583984-002f-45ac-9a72-af78f7b1479b",
   "metadata": {},
   "source": [
    " 2.Реализовать обход графа в ширину и в глубину в виде функций на питоне."
   ]
  },
  {
   "cell_type": "code",
   "execution_count": 3,
   "id": "94589e40-2bc1-4f30-ac4a-3e70c424a0c1",
   "metadata": {},
   "outputs": [
    {
     "name": "stdout",
     "output_type": "stream",
     "text": [
      "1 6 9 3 8 16 2 4 5 13 19 18 12 10 17 14 7 11 15 20 "
     ]
    }
   ],
   "source": [
    "def bfs(graph, start):\n",
    "    visited = set()\n",
    "    queue = [start]\n",
    "    while queue:\n",
    "        vertex = queue.pop(0)\n",
    "        if vertex not in visited:\n",
    "            print(vertex+1, end=' ')\n",
    "            visited.add(vertex)\n",
    "            for i in range(len(graph[vertex])):\n",
    "                if graph[vertex][i] == 1 and i not in visited:\n",
    "                    queue.append(i)\n",
    "bfs(graph,0)"
   ]
  },
  {
   "cell_type": "code",
   "execution_count": 4,
   "id": "f830cd74-a0e8-4228-bf87-8318267f3d53",
   "metadata": {},
   "outputs": [
    {
     "data": {
      "text/plain": [
       "[1, 6, 3, 2, 4, 5, 9, 8, 13, 18, 10, 14, 17, 7, 11, 15, 20, 19, 12, 16]"
      ]
     },
     "execution_count": 4,
     "metadata": {},
     "output_type": "execute_result"
    }
   ],
   "source": [
    "def dfs(graph, node, visited):\n",
    "    visited[node] = True\n",
    "    result = [node + 1]  # Добавляем 1 к индексу в результат\n",
    "    for i, value in enumerate(graph[node]):\n",
    "        if value == 1 and not visited[i]:\n",
    "            result += dfs(graph, i, visited)\n",
    "    return result\n",
    "visited = [False] * len(graph)\n",
    "dfs(graph, 0, visited) "
   ]
  },
  {
   "cell_type": "markdown",
   "id": "9ff3216b-796b-458b-81cc-6fd838826919",
   "metadata": {},
   "source": [
    "3. Сравнили скорость нахождения обоими поисками: две самых больших по номеру вершины и привести пути к ним в виде списка."
   ]
  },
  {
   "cell_type": "code",
   "execution_count": 5,
   "id": "86108ada-d9e8-4688-b8a2-21793342f37a",
   "metadata": {},
   "outputs": [
    {
     "name": "stdout",
     "output_type": "stream",
     "text": [
      "1 6 9 3 8 16 2 4 5 13 19 18 12 10 17 14 7 11 15 20 \n",
      "Time for BFS:  0.0\n"
     ]
    }
   ],
   "source": [
    "import time\n",
    "start_time = time.time()\n",
    "bfs(graph, 0)\n",
    "end_time = time.time()\n",
    "print(\"\\nTime for BFS: \", round((end_time - start_time), 3))\n"
   ]
  },
  {
   "cell_type": "code",
   "execution_count": 6,
   "id": "a398dc9d-3f74-4565-b51c-4ba0c9979278",
   "metadata": {},
   "outputs": [
    {
     "name": "stdout",
     "output_type": "stream",
     "text": [
      "\n",
      "Time for DFS:  0.0\n"
     ]
    }
   ],
   "source": [
    "start_time = time.time()\n",
    "dfs(graph, 0, visited)\n",
    "end_time = time.time()\n",
    "print(\"\\nTime for DFS: \", round((end_time - start_time), 3))"
   ]
  },
  {
   "cell_type": "markdown",
   "id": "e810ac8f-a20b-407a-80e7-67f38bbd9f8f",
   "metadata": {},
   "source": [
    "Скорость выполнения обоих алгоритмов высокая для малых вычичслений, как в нашем примере, поэтому время выполнения в обоих случаях стремится к 0."
   ]
  },
  {
   "cell_type": "markdown",
   "id": "3c760d37-9d2a-4437-8a5c-2af56a0687d2",
   "metadata": {},
   "source": [
    "4. Выяснить существуют ли библиотеки в Питоне, позволяющие использовать поиск в ширину и глубину \"из коробки\". "
   ]
  },
  {
   "cell_type": "markdown",
   "id": "36dba4c8-d6dc-4fd4-a8aa-33fcc1bec664",
   "metadata": {},
   "source": [
    "библиотека NetworkX предоставляет удобные методы для работы с графами, включая обходы в ширину и в глубину."
   ]
  },
  {
   "cell_type": "markdown",
   "id": "ed582746-1f6e-4299-bf1f-94c941985ad1",
   "metadata": {},
   "source": [
    "5."
   ]
  },
  {
   "cell_type": "code",
   "execution_count": 11,
   "id": "be43cec7-8b80-4584-b600-bf4b47b19e5f",
   "metadata": {},
   "outputs": [
    {
     "name": "stdout",
     "output_type": "stream",
     "text": [
      "1 1 1 1 1 6 3 2 4 5 1 6 3 2 4 5 1 6 3 2 4 5 1 6 9 3 8 2 4 5 1 6 9 3 8 2 4 5 1 6 9 3 8 2 4 5 1 6 9 3 8 2 4 5 1 6 9 3 8 2 4 5 13 1 6 9 3 8 2 4 5 13 1 6 9 3 8 2 4 5 13 1 6 9 3 8 16 2 4 5 13 1 6 9 3 8 16 2 4 5 13 1 6 9 3 8 16 2 4 5 13 18 10 17 14 7 11 15 1 6 9 3 8 16 2 4 5 13 19 18 12 10 17 14 7 11 15 1 6 9 3 8 16 2 4 5 13 19 18 12 10 17 14 7 11 15 20 "
     ]
    },
    {
     "data": {
      "image/png": "[encoded data removed]",
      "text/plain": [
       "<Figure size 640x480 with 1 Axes>"
      ]
     },
     "metadata": {},
     "output_type": "display_data"
    }
   ],
   "source": [
    "import time\n",
    "import matplotlib.pyplot as plt\n",
    "\n",
    "def bfs_execution_time(graph):\n",
    "    start_time = time.time()\n",
    "    bfs(graph, 0)\n",
    "    end_time = time.time()\n",
    "    return end_time - start_time\n",
    "\n",
    "def dfs_execution_time(graph):\n",
    "    start_time = time.time()\n",
    "    dfs(graph, 0, visited)\n",
    "    end_time = time.time()\n",
    "    return end_time - start_time\n",
    "\n",
    "graph_sizes = []\n",
    "\n",
    "bfs_times = []\n",
    "dfs_times = []\n",
    "\n",
    "for i in range(2, 21):\n",
    "    size = i\n",
    "    graph_sizes.append(size)\n",
    "    sub_graph = [row[:size] for row in graph[:size]]  \n",
    "    bfs_time = bfs_execution_time(sub_graph)\n",
    "    dfs_time = dfs_execution_time(sub_graph)\n",
    "    bfs_times.append(bfs_time)\n",
    "    dfs_times.append(dfs_time)\n",
    "\n",
    "plt.plot(graph_sizes, bfs_times, label='BFS')\n",
    "plt.plot(graph_sizes, dfs_times, label='DFS')\n",
    "plt.xlabel('Размер матрицы')\n",
    "plt.ylabel('Время выполнения (секунды)')\n",
    "plt.legend()\n",
    "plt.title('Время выполнения BFS и DFS')\n",
    "plt.show()"
   ]
  },
  {
   "cell_type": "code",
   "execution_count": null,
   "id": "d15c2112-4d82-4f8b-9183-60964762c64c",
   "metadata": {},
   "outputs": [],
   "source": []
  }
 ],
 "metadata": {
  "kernelspec": {
   "display_name": "Python 3 (ipykernel)",
   "language": "python",
   "name": "python3"
  },
  "language_info": {
   "codemirror_mode": {
    "name": "ipython",
    "version": 3
   },
   "file_extension": ".py",
   "mimetype": "text/x-python",
   "name": "python",
   "nbconvert_exporter": "python",
   "pygments_lexer": "ipython3",
   "version": "3.11.5"
  }
 },
 "nbformat": 4,
 "nbformat_minor": 5
}
